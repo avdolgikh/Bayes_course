{
  "nbformat": 4,
  "nbformat_minor": 0,
  "metadata": {
    "colab": {
      "name": "Copy of em_assignment.ipynb",
      "provenance": [],
      "collapsed_sections": []
    },
    "kernelspec": {
      "display_name": "Python 3",
      "language": "python",
      "name": "python3"
    }
  },
  "cells": [
    {
      "cell_type": "markdown",
      "metadata": {
        "id": "jlo4V6MRBEDQ",
        "colab_type": "text"
      },
      "source": [
        "# First things first\n",
        "Click **File -> Save a copy in Drive** and click **Open in new tab** in the pop-up window to save your progress in Google Drive."
      ]
    },
    {
      "cell_type": "markdown",
      "metadata": {
        "id": "WMlNHfVxBEDT",
        "colab_type": "text"
      },
      "source": [
        "# Expectation-maximization algorithm"
      ]
    },
    {
      "cell_type": "markdown",
      "metadata": {
        "id": "icS4MsxIBEDU",
        "colab_type": "text"
      },
      "source": [
        "In this assignment, we will derive and implement formulas for Gaussian Mixture Model — one of the most commonly used methods for performing soft clustering of the data. "
      ]
    },
    {
      "cell_type": "markdown",
      "metadata": {
        "id": "jequoJfSBEDV",
        "colab_type": "text"
      },
      "source": [
        "### Setup\n",
        "Loading auxiliary files and importing the necessary libraries."
      ]
    },
    {
      "cell_type": "code",
      "metadata": {
        "id": "ZqZo-y9UBEDX",
        "colab_type": "code",
        "outputId": "12d582f7-7ec3-42f5-a2d4-5dc0f6e4f168",
        "colab": {
          "base_uri": "https://localhost:8080/",
          "height": 252
        }
      },
      "source": [
        "try:\n",
        "    import google.colab\n",
        "    IN_COLAB = True\n",
        "except:\n",
        "    IN_COLAB = False\n",
        "if IN_COLAB:\n",
        "    print(\"Downloading Colab files\")\n",
        "    ! shred -u setup_google_colab.py\n",
        "    ! wget https://raw.githubusercontent.com/hse-aml/bayesian-methods-for-ml/master/setup_google_colab.py -O setup_google_colab.py\n",
        "    import setup_google_colab\n",
        "    setup_google_colab.load_data_week2()"
      ],
      "execution_count": 51,
      "outputs": [
        {
          "output_type": "stream",
          "text": [
            "Downloading Colab files\n",
            "--2020-03-15 17:27:00--  https://raw.githubusercontent.com/hse-aml/bayesian-methods-for-ml/master/setup_google_colab.py\n",
            "Resolving raw.githubusercontent.com (raw.githubusercontent.com)... 151.101.0.133, 151.101.64.133, 151.101.128.133, ...\n",
            "Connecting to raw.githubusercontent.com (raw.githubusercontent.com)|151.101.0.133|:443... connected.\n",
            "HTTP request sent, awaiting response... 200 OK\n",
            "Length: 1254 (1.2K) [text/plain]\n",
            "Saving to: ‘setup_google_colab.py’\n",
            "\n",
            "setup_google_colab. 100%[===================>]   1.22K  --.-KB/s    in 0s      \n",
            "\n",
            "2020-03-15 17:27:00 (274 MB/s) - ‘setup_google_colab.py’ saved [1254/1254]\n",
            "\n",
            "https://raw.githubusercontent.com/hse-aml/bayesian-methods-for-ml/master/week2/w2_grader.py w2_grader.py\n",
            "https://raw.githubusercontent.com/hse-aml/bayesian-methods-for-ml/master/week2/samples.npz samples.npz\n"
          ],
          "name": "stdout"
        }
      ]
    },
    {
      "cell_type": "code",
      "metadata": {
        "id": "urylZcbeBEDc",
        "colab_type": "code",
        "colab": {}
      },
      "source": [
        "import numpy as np\n",
        "from numpy.linalg import slogdet, det, solve\n",
        "import matplotlib.pyplot as plt\n",
        "import time\n",
        "from sklearn.datasets import load_digits\n",
        "from w2_grader import EMGrader\n",
        "%matplotlib inline"
      ],
      "execution_count": 0,
      "outputs": []
    },
    {
      "cell_type": "markdown",
      "metadata": {
        "id": "tP8l9frZBEDf",
        "colab_type": "text"
      },
      "source": [
        "### Grading\n",
        "We will create a grader instance below and use it to collect your answers. Note that these outputs will be stored locally inside grader and will be uploaded to the platform only after running submitting function in the last part of this assignment. If you want to make a partial submission, you can run that cell anytime you want."
      ]
    },
    {
      "cell_type": "code",
      "metadata": {
        "id": "7Gvy3EOvBEDg",
        "colab_type": "code",
        "colab": {}
      },
      "source": [
        "grader = EMGrader()"
      ],
      "execution_count": 0,
      "outputs": []
    },
    {
      "cell_type": "markdown",
      "metadata": {
        "id": "dL3A2sntBEDj",
        "colab_type": "text"
      },
      "source": [
        "## Implementing EM for GMM"
      ]
    },
    {
      "cell_type": "markdown",
      "metadata": {
        "id": "0xPS_VdpBEDk",
        "colab_type": "text"
      },
      "source": [
        "For debugging, we will use samples from a Gaussian mixture model with unknown mean, variance, and priors. We also added initial values of parameters for grading purposes."
      ]
    },
    {
      "cell_type": "code",
      "metadata": {
        "id": "g9_aOn94BEDl",
        "colab_type": "code",
        "outputId": "87ad3003-66d6-46bc-c112-d4a9120e3cf1",
        "colab": {
          "base_uri": "https://localhost:8080/",
          "height": 265
        }
      },
      "source": [
        "samples = np.load('samples.npz')\n",
        "X = samples['data']\n",
        "pi0 = samples['pi0']\n",
        "mu0 = samples['mu0']\n",
        "sigma0 = samples['sigma0']\n",
        "plt.scatter(X[:, 0], X[:, 1], c='grey', s=30)\n",
        "plt.axis('equal')\n",
        "plt.show()"
      ],
      "execution_count": 54,
      "outputs": [
        {
          "output_type": "display_data",
          "data": {
            "image/png": "[encoded data removed]",
            "text/plain": [
              "<Figure size 432x288 with 1 Axes>"
            ]
          },
          "metadata": {
            "tags": []
          }
        }
      ]
    },
    {
      "cell_type": "markdown",
      "metadata": {
        "id": "AmgeHTCfBEDp",
        "colab_type": "text"
      },
      "source": [
        "### Reminder"
      ]
    },
    {
      "cell_type": "markdown",
      "metadata": {
        "id": "RgAwWi1nBEDq",
        "colab_type": "text"
      },
      "source": [
        "Remember, that EM algorithm is a coordinate descent optimization of variational lower bound $\\mathcal{L}(\\theta, q) = \\int q(T) \\log\\frac{p(X, T|\\theta)}{q(T)}dT\\to \\max$.\n",
        "\n",
        "<b>E-step</b>:<br>\n",
        "$\\mathcal{L}(\\theta, q) \\to \\max\\limits_{q} \\Leftrightarrow \\mathcal{KL} [q(T) \\,\\|\\, p(T|X, \\theta)] \\to \\min \\limits_{q\\in Q} \\Rightarrow q(T) = p(T|X, \\theta)$<br>\n",
        "<b>M-step</b>:<br> \n",
        "$\\mathcal{L}(\\theta, q) \\to \\max\\limits_{\\theta} \\Leftrightarrow \\mathbb{E}_{q(T)}\\log p(X,T | \\theta) \\to \\max\\limits_{\\theta}$\n",
        "\n",
        "For GMM, $\\theta$ is a set of parameters that consists of mean vectors $\\mu_c$, covariance matrices $\\Sigma_c$ and priors $\\pi_c$ for each component.\n",
        "\n",
        "Latent variables $T$ are indices of components to which each data point is assigned, i.e. $t_i$  is the cluster index for object $x_i$.\n",
        "\n",
        "The joint distribution can be written as follows: $\\log p(T, X \\mid \\theta) =  \\sum\\limits_{i=1}^N \\log p(t_i, x_i \\mid \\theta) = \\sum\\limits_{i=1}^N \\sum\\limits_{c=1}^C q(t_i = c) \\log \\left (\\pi_c \\, f_{\\!\\mathcal{N}}(x_i \\mid \\mu_c, \\Sigma_c)\\right)$,\n",
        "where $f_{\\!\\mathcal{N}}(x \\mid \\mu_c, \\Sigma_c) = \\frac{1}{\\sqrt{(2\\pi)^n|\\boldsymbol\\Sigma_c|}}\n",
        "\\exp\\left(-\\frac{1}{2}({x}-{\\mu_c})^T{\\boldsymbol\\Sigma_c}^{-1}({x}-{\\mu_c})\n",
        "\\right)$ is the probability density function (pdf) of the normal distribution $\\mathcal{N}(x_i \\mid \\mu_c, \\Sigma_c)$."
      ]
    },
    {
      "cell_type": "markdown",
      "metadata": {
        "id": "ELmi1nAtBEDr",
        "colab_type": "text"
      },
      "source": [
        "### E-step\n",
        "In this step we need to estimate the posterior distribution over the latent variables with fixed values of parameters: $q_i(t_i) = p(t_i \\mid x_i, \\theta)$. We assume that $t_i$ equals to the cluster index of the true component of the $x_i$ object. To do so we need to compute $\\gamma_{ic} = p(t_i = c \\mid x_i, \\theta)$. Note that $\\sum\\limits_{c=1}^C\\gamma_{ic}=1$.\n"
      ]
    },
    {
      "cell_type": "markdown",
      "metadata": {
        "id": "53FR1RJ9BEDs",
        "colab_type": "text"
      },
      "source": [
        "b>Important trick 1:</b> It is important to avoid numerical errors. At some point you will have to compute the formula of the following form: $\\frac{e^{y_i}}{\\sum_j e^{y_j}}$, which is called _softmax_. When you compute exponents of large numbers, some numbers may become infinity. You can avoid this by dividing numerator and denominator by $e^{\\max(y)}$: $\\frac{e^{y_i-\\max(y)}}{\\sum_j e^{y_j - \\max(y)}}$. After this transformation maximum value in the denominator will be equal to one. All other terms will contribute smaller values. So, to compute desired formula you first subtract maximum value from each component in vector $\\mathbf{y}$ and then compute everything else as before.\n",
        "\n",
        "<b>Important trick 2:</b> You will probably need to compute formula of the form $A^{-1}x$ at some point. You would normally inverse $A$ and then multiply it by $x$. A bit faster and more numerically accurate way to do this is to directly solve equation $Ay = x$ by using a special function. Its solution is $y=A^{-1}x$, but the equation $Ay = x$ can be solved by methods which do not explicitely invert the matrix. You can use ```np.linalg.solve``` for this.\n",
        "\n",
        "<b>Other usefull functions: </b> <a href=\"https://docs.scipy.org/doc/numpy/reference/generated/numpy.linalg.slogdet.html\">```slogdet```</a> and <a href=\"https://docs.scipy.org/doc/numpy/reference/generated/numpy.linalg.det.html#numpy.linalg.det\">```det```</a>"
      ]
    },
    {
      "cell_type": "markdown",
      "metadata": {
        "id": "KL87Q8-TBEDu",
        "colab_type": "text"
      },
      "source": [
        "<b>Task 1:</b> Implement E-step for GMM using template below."
      ]
    },
    {
      "cell_type": "code",
      "metadata": {
        "id": "neq6Nwb5VH9R",
        "colab_type": "code",
        "colab": {}
      },
      "source": [
        "def unnormalized_log_multivariate_gaussian(x, mu, sigma):\n",
        "  C = mu.shape[0]\n",
        "  unbiased_x = x - mu\n",
        "  return np.array( [ -.5 * np.dot( unbiased_x[c].T, np.linalg.solve( sigma[c], unbiased_x[c] ) ) for c in range(C) ] )      \n",
        "      "
      ],
      "execution_count": 0,
      "outputs": []
    },
    {
      "cell_type": "code",
      "metadata": {
        "id": "i5vX7BkMYLt_",
        "colab_type": "code",
        "colab": {}
      },
      "source": [
        "def get_normalization_const(sigma, d):\n",
        "  sign, logdet = np.linalg.slogdet( sigma )\n",
        "  det_sigma = sign * np.exp(logdet)    \n",
        "  return 1 / np.sqrt( (2 * np.pi)**d * det_sigma )"
      ],
      "execution_count": 0,
      "outputs": []
    },
    {
      "cell_type": "code",
      "metadata": {
        "id": "wCUCaD28BEDw",
        "colab_type": "code",
        "colab": {}
      },
      "source": [
        "def E_step(X, pi, mu, sigma):\n",
        "    \"\"\"\n",
        "    Performs E-step on GMM model\n",
        "    Each input is numpy array:\n",
        "    X: (N x d), data points\n",
        "    pi: (C), mixture component weights \n",
        "    mu: (C x d), mixture component means\n",
        "    sigma: (C x d x d), mixture component covariance matrices\n",
        "    \n",
        "    Returns:\n",
        "    gamma: (N x C), probabilities of clusters for objects\n",
        "    \"\"\"\n",
        "    N = X.shape[0] # number of objects\n",
        "    C = pi.shape[0] # number of clusters\n",
        "    d = mu.shape[1] # dimension of each object    \n",
        "    gamma = np.zeros((N, C)) # distribution q(T)\n",
        "\n",
        "    normalization_const = get_normalization_const(sigma, d)\n",
        "    \n",
        "    def softmax(y):      \n",
        "      f = np.exp( y - np.max(y, axis=-1) )\n",
        "      return f / np.sum(f, axis=-1)\n",
        "\n",
        "    for i in range(N):\n",
        "      exp_degree = unnormalized_log_multivariate_gaussian(X[i], mu, sigma)\n",
        "      #unbiased_x = X[i] - mu\n",
        "      #exp_degree = np.array( [ -.5 * np.dot( unbiased_x[c].T, np.linalg.solve( sigma[c], unbiased_x[c] ) ) for c in range(C) ] )      \n",
        "      gamma[i] = softmax( np.log(normalization_const * pi) + exp_degree )\n",
        "    \n",
        "    #for c in range(C):\n",
        "    #  unbiased_X = X - mu[c]\n",
        "    #  gamma[:, c] = -.5 * np.dot( unbiased_X.T, np.linalg.solve( sigma[c], unbiased_X ) )\n",
        "    #gamma = softmax( np.log(normalization_const * pi) + gamma )\n",
        "\n",
        "    return gamma"
      ],
      "execution_count": 0,
      "outputs": []
    },
    {
      "cell_type": "code",
      "metadata": {
        "id": "xlhktOlMBED1",
        "colab_type": "code",
        "outputId": "f59d3436-7070-4325-80f5-1fbb9f03b913",
        "colab": {
          "base_uri": "https://localhost:8080/",
          "height": 34
        }
      },
      "source": [
        "gamma = E_step(X, pi0, mu0, sigma0)\n",
        "grader.submit_e_step(gamma)"
      ],
      "execution_count": 58,
      "outputs": [
        {
          "output_type": "stream",
          "text": [
            "Current answer for task Task 1 (E-step) is: 0.5337178741081262\n"
          ],
          "name": "stdout"
        }
      ]
    },
    {
      "cell_type": "markdown",
      "metadata": {
        "id": "fERrQWSCBED5",
        "colab_type": "text"
      },
      "source": [
        "### M-step\n",
        "\n",
        "In M-step we need to maximize $\\mathbb{E}_{q(T)}\\log p(X,T | \\theta)$ with respect to $\\theta$. In our model this means that we need to find optimal values of $\\pi$, $\\mu$, $\\Sigma$. To do so, you need to compute the derivatives and \n",
        "set them to zero. You should start by deriving formulas for $\\mu$ as it is the easiest part. Then move on to $\\Sigma$. Here it is crucial to optimize function w.r.t. to $\\Lambda = \\Sigma^{-1}$ and then inverse obtained result. Finaly, to compute $\\pi$, you will need <a href=\"https://www3.nd.edu/~jstiver/FIN360/Constrained%20Optimization.pdf\">Lagrange Multipliers technique</a> to satisfy constraint $\\sum\\limits_{i=1}^{n}\\pi_i = 1$.\n",
        "\n",
        "<br>\n",
        "<b>Important note:</b> You will need to compute derivatives of scalars with respect to matrices. To refresh this technique from previous courses, see <a href=\"https://en.wikipedia.org/wiki/Matrix_calculus\"> wiki article</a> about it . Main formulas of matrix derivatives can be found in <a href=\"http://www2.imm.dtu.dk/pubdb/views/edoc_download.php/3274/pdf/imm3274.pdf\">Chapter 2 of The Matrix Cookbook</a>. For example, there you may find that $\\frac{\\partial}{\\partial A}\\log |A| = A^{-T}$.\n"
      ]
    },
    {
      "cell_type": "markdown",
      "metadata": {
        "id": "A31OYSogBED6",
        "colab_type": "text"
      },
      "source": [
        "<b>Task 2:</b> Implement M-step for GMM using template below."
      ]
    },
    {
      "cell_type": "code",
      "metadata": {
        "id": "mhOr5I1bBED7",
        "colab_type": "code",
        "colab": {}
      },
      "source": [
        "def M_step(X, gamma):\n",
        "    \"\"\"\n",
        "    Performs M-step on GMM model\n",
        "    Each input is numpy array:\n",
        "    X: (N x d), data points\n",
        "    gamma: (N x C), distribution q(T)  \n",
        "    \n",
        "    Returns:\n",
        "    pi: (C)\n",
        "    mu: (C x d)\n",
        "    sigma: (C x d x d)\n",
        "    \"\"\"\n",
        "    N = X.shape[0] # number of objects\n",
        "    C = gamma.shape[1] # number of clusters\n",
        "    d = X.shape[1] # dimension of each object\n",
        "\n",
        "    mu = np.zeros((C, d))\n",
        "    sigma = np.zeros((C, d, d))\n",
        "    pi = np.zeros(C)    \n",
        "    \n",
        "    for c in range(C):\n",
        "      gamma_sum = np.sum(gamma[:, c])\n",
        "      mu[c] = np.sum(gamma[:, c].reshape(-1, 1) * X, axis=0) / gamma_sum\n",
        "      sigma[c] = np.sum( [ np.outer( X[i] - mu[c], X[i] - mu[c] ) * gamma[i, c] for i in range(N) ], axis = 0 ) / gamma_sum\n",
        "      pi[c] = gamma_sum / N\n",
        "\n",
        "    return pi, mu, sigma"
      ],
      "execution_count": 0,
      "outputs": []
    },
    {
      "cell_type": "code",
      "metadata": {
        "id": "6i5cv65SBED-",
        "colab_type": "code",
        "outputId": "07537874-931b-4422-95f2-a16ebfc29a10",
        "colab": {
          "base_uri": "https://localhost:8080/",
          "height": 67
        }
      },
      "source": [
        "gamma = E_step(X, pi0, mu0, sigma0)\n",
        "pi, mu, sigma = M_step(X, gamma)\n",
        "grader.submit_m_step(pi, mu, sigma)"
      ],
      "execution_count": 60,
      "outputs": [
        {
          "output_type": "stream",
          "text": [
            "Current answer for task Task 2 (M-step: mu) is: 2.899391882050384\n",
            "Current answer for task Task 2 (M-step: sigma) is: 5.977105216897526\n",
            "Current answer for task Task 2 (M-step: pi) is: 0.5507624459218775\n"
          ],
          "name": "stdout"
        }
      ]
    },
    {
      "cell_type": "markdown",
      "metadata": {
        "id": "svyzjt7XBEEC",
        "colab_type": "text"
      },
      "source": [
        "### Loss function"
      ]
    },
    {
      "cell_type": "markdown",
      "metadata": {
        "id": "qexOXBLUBEED",
        "colab_type": "text"
      },
      "source": [
        "Finally, we need some function to track convergence. We will use variational lower bound $\\mathcal{L}$ for this purpose. We will stop our EM iterations when $\\mathcal{L}$ will saturate. Usually, you will need only about 10-20 iterations to converge. It is also useful to check that this function never decreases during training. If it does, you have a bug in your code.\n",
        "\n",
        "<b>Task 3:</b> Implement a function that will compute $\\mathcal{L}$ using template below.\n",
        "\n",
        "$$\\mathcal{L} = \\sum_{i=1}^{N} \\sum_{c=1}^{C} q(t_i =c) (\\log \\pi_c + \\log f_{\\!\\mathcal{N}}(x_i \\mid \\mu_c, \\Sigma_c)) - \\sum_{i=1}^{N} \\sum_{c=1}^{K} q(t_i =c) \\log q(t_i =c)$$"
      ]
    },
    {
      "cell_type": "code",
      "metadata": {
        "id": "B5tKCZe0BEEE",
        "colab_type": "code",
        "colab": {}
      },
      "source": [
        "def compute_vlb(X, pi, mu, sigma, gamma):\n",
        "    \"\"\"\n",
        "    Each input is numpy array:\n",
        "    X: (N x d), data points\n",
        "    gamma: (N x C), distribution q(T)  \n",
        "    pi: (C)\n",
        "    mu: (C x d)\n",
        "    sigma: (C x d x d)\n",
        "    \n",
        "    Returns value of variational lower bound\n",
        "    \"\"\"\n",
        "    N = X.shape[0] # number of objects\n",
        "    C = gamma.shape[1] # number of clusters\n",
        "    d = X.shape[1] # dimension of each object\n",
        "\n",
        "    log_pi_on_normalization_const = np.log(get_normalization_const(sigma, d) * pi)\n",
        "    loss = 0\n",
        "    for i in range(N):\n",
        "      lmg = unnormalized_log_multivariate_gaussian(X[i], mu, sigma)\n",
        "      for c in range(C):\n",
        "        if gamma[i, c] > 0:\n",
        "          y = gamma[i, c] * ( log_pi_on_normalization_const[c] + lmg[c] - np.log(gamma[i, c]))\n",
        "          loss += y\n",
        "    return loss"
      ],
      "execution_count": 0,
      "outputs": []
    },
    {
      "cell_type": "code",
      "metadata": {
        "id": "xNva3XRTBEEI",
        "colab_type": "code",
        "outputId": "eea5728d-3657-4fe4-a2b6-fb574589b328",
        "colab": {
          "base_uri": "https://localhost:8080/",
          "height": 34
        }
      },
      "source": [
        "pi, mu, sigma = pi0, mu0, sigma0\n",
        "gamma = E_step(X, pi, mu, sigma)\n",
        "pi, mu, sigma = M_step(X, gamma)\n",
        "loss = compute_vlb(X, pi, mu, sigma, gamma)\n",
        "grader.submit_VLB(loss)"
      ],
      "execution_count": 62,
      "outputs": [
        {
          "output_type": "stream",
          "text": [
            "Current answer for task Task 3 (VLB) is: -1213.973464306019\n"
          ],
          "name": "stdout"
        }
      ]
    },
    {
      "cell_type": "markdown",
      "metadata": {
        "id": "I5p8XC-eBEEM",
        "colab_type": "text"
      },
      "source": [
        "### Bringing it all together"
      ]
    },
    {
      "cell_type": "markdown",
      "metadata": {
        "id": "cQsdsNVCBEEU",
        "colab_type": "text"
      },
      "source": [
        "Now that we have E step, M step and VLB, we can implement the training loop. We will initialize values of $\\pi$, $\\mu$ and $\\Sigma$ to some random numbers, train until $\\mathcal{L}$ stops changing, and return the resulting points. We also know that the EM algorithm converges to local optima. To find a better local optima, we will restart the algorithm multiple times from different (random) starting positions. Each training trial should stop either when maximum number of iterations is reached or when relative improvement is smaller than given tolerance ($|\\frac{\\mathcal{L}_i-\\mathcal{L}_{i-1}}{\\mathcal{L}_{i-1}}| \\le \\text{rtol}$).\n",
        "\n",
        "Remember, that initial (random) values of $\\pi$ that you generate must be non-negative and sum up to 1. Also, $\\Sigma$ matrices must be symmetric and positive semi-definite. If you don't know how to generate those matrices, you can use $\\Sigma=I$ as initialization.\n",
        "\n",
        "You will also sometimes get numerical errors because of component collapsing. The easiest way to deal with this problems is to restart the procedure.\n",
        "\n",
        "<b>Task 4:</b> Implement training procedure"
      ]
    },
    {
      "cell_type": "code",
      "metadata": {
        "id": "JiucqDvJ-jwD",
        "colab_type": "code",
        "colab": {}
      },
      "source": [
        "def init_pi(C):\n",
        "  r = np.random.rand(C)\n",
        "  return r / np.sum(r) "
      ],
      "execution_count": 0,
      "outputs": []
    },
    {
      "cell_type": "code",
      "metadata": {
        "id": "1fXxP8HBCRkV",
        "colab_type": "code",
        "colab": {}
      },
      "source": [
        "def init_mu(X, C):\n",
        "  d = X.shape[1]\n",
        "  m = np.mean(X, axis=0)\n",
        "  s = np.std(X, axis=0)\n",
        "  return s * np.random.randn(C, d) + m"
      ],
      "execution_count": 0,
      "outputs": []
    },
    {
      "cell_type": "code",
      "metadata": {
        "id": "Q1AAcyl0BEEW",
        "colab_type": "code",
        "colab": {}
      },
      "source": [
        "def train_EM(X, C, rtol=1e-3, max_iter=100, restarts=10):\n",
        "    '''\n",
        "    Starts with random initialization *restarts* times\n",
        "    Runs optimization until saturation with *rtol* reached\n",
        "    or *max_iter* iterations were made.\n",
        "    \n",
        "    X: (N, d), data points\n",
        "    C: int, number of clusters\n",
        "    '''\n",
        "    N = X.shape[0] # number of objects\n",
        "    d = X.shape[1] # dimension of each object\n",
        "    best_loss = -float(\"inf\")\n",
        "    best_pi = None\n",
        "    best_mu = None\n",
        "    best_sigma = None\n",
        "\n",
        "    for _ in range(restarts):\n",
        "        try:\n",
        "            pi = init_pi(C)\n",
        "            mu = init_mu(X, C)\n",
        "            sigma = [ np.identity((d)) ] * C\n",
        "            prev_loss = None\n",
        "\n",
        "            for iter in range(max_iter):\n",
        "              gamma = E_step(X, pi, mu, sigma)\n",
        "              pi, mu, sigma = M_step(X, gamma)\n",
        "              loss = compute_vlb(X, pi, mu, sigma, gamma)\n",
        "              print(\"loss: \" + str(loss))\n",
        "              \n",
        "              if prev_loss is not None:\n",
        "                diff_loss = loss - prev_loss\n",
        "                print(\"diff_loss: \" + str(diff_loss))\n",
        "                #assert diff_loss >= 0, \"diff_loss must be not less than 0, but it is {}\".format(diff_loss)\n",
        "\n",
        "                if abs(diff_loss / prev_loss) <= rtol and loss > best_loss:\n",
        "                  best_loss = loss\n",
        "                  best_pi = pi\n",
        "                  best_mu = mu\n",
        "                  best_sigma = sigma\n",
        "                  break\n",
        "\n",
        "              prev_loss = loss\n",
        "\n",
        "        except np.linalg.LinAlgError:\n",
        "            print(\"Singular matrix: components collapsed\")\n",
        "            pass\n",
        "\n",
        "    return best_loss, best_pi, best_mu, best_sigma"
      ],
      "execution_count": 0,
      "outputs": []
    },
    {
      "cell_type": "code",
      "metadata": {
        "id": "0f8A5sbmBEEZ",
        "colab_type": "code",
        "outputId": "2ec3b301-acfa-475f-e1ac-eed0a4579df0",
        "colab": {
          "base_uri": "https://localhost:8080/",
          "height": 1000
        }
      },
      "source": [
        "best_loss, best_pi, best_mu, best_sigma = train_EM(X, 3, rtol=1e-4, max_iter=200, restarts=50)\n",
        "grader.submit_EM(best_loss)"
      ],
      "execution_count": 0,
      "outputs": [
        {
          "output_type": "stream",
          "text": [
            "loss: -1122.7268727967564\n",
            "loss: -1095.4247431373394\n",
            "diff_loss: 27.302129659417005\n",
            "loss: -1085.1348607259388\n",
            "diff_loss: 10.28988241140064\n",
            "loss: -1072.5541769474207\n",
            "diff_loss: 12.58068377851805\n",
            "loss: -1064.9209507589562\n",
            "diff_loss: 7.633226188464505\n",
            "loss: -1064.220847250053\n",
            "diff_loss: 0.700103508903112\n",
            "loss: -1063.99313003274\n",
            "diff_loss: 0.2277172173130566\n",
            "loss: -1063.895856544815\n",
            "diff_loss: 0.09727348792512203\n",
            "loss: -1114.8252902715203\n",
            "loss: -1103.319829685194\n",
            "diff_loss: 11.505460586326308\n",
            "loss: -1099.2164652002277\n",
            "diff_loss: 4.103364484966278\n",
            "loss: -1096.548733812968\n",
            "diff_loss: 2.667731387259664\n",
            "loss: -1094.10972079322\n",
            "diff_loss: 2.4390130197480175\n",
            "loss: -1091.2005073495104\n",
            "diff_loss: 2.909213443709632\n",
            "loss: -1087.0667524117455\n",
            "diff_loss: 4.133754937764934\n",
            "loss: -1081.4105412741492\n",
            "diff_loss: 5.656211137596301\n",
            "loss: -1074.3726718859104\n",
            "diff_loss: 7.037869388238732\n",
            "loss: -1065.614322759256\n",
            "diff_loss: 8.758349126654366\n",
            "loss: -1064.005183277853\n",
            "diff_loss: 1.60913948140319\n",
            "loss: -1063.860657094401\n",
            "diff_loss: 0.14452618345194423\n",
            "loss: -1063.8241131870975\n",
            "diff_loss: 0.03654390730343948\n",
            "loss: -1113.8977641416561\n",
            "loss: -1098.137190652669\n",
            "diff_loss: 15.76057348898712\n",
            "loss: -1090.3339006790213\n",
            "diff_loss: 7.803289973647679\n",
            "loss: -1080.0482796080164\n",
            "diff_loss: 10.285621071004925\n",
            "loss: -1067.3929420817237\n",
            "diff_loss: 12.65533752629267\n",
            "loss: -1063.9184248770378\n",
            "diff_loss: 3.4745172046859807\n",
            "loss: -1063.8292227314216\n",
            "diff_loss: 0.08920214561612738\n",
            "loss: -1063.8162204743362\n",
            "diff_loss: 0.013002257085418023\n",
            "loss: -1168.3265116669952\n",
            "loss: -1142.3204692645418\n",
            "diff_loss: 26.00604240245343\n",
            "loss: -1134.2747152732968\n",
            "diff_loss: 8.045753991244965\n",
            "loss: -1128.23044215881\n",
            "diff_loss: 6.044273114486714\n",
            "loss: -1122.8000441418897\n",
            "diff_loss: 5.430398016920435\n",
            "loss: -1117.8221418444361\n",
            "diff_loss: 4.977902297453511\n",
            "loss: -1113.5391748894824\n",
            "diff_loss: 4.282966954953736\n",
            "loss: -1110.1349118188089\n",
            "diff_loss: 3.404263070673551\n",
            "loss: -1107.5308625960108\n",
            "diff_loss: 2.6040492227980394\n",
            "loss: -1105.5141271697712\n",
            "diff_loss: 2.01673542623962\n",
            "loss: -1103.8914041424814\n",
            "diff_loss: 1.6227230272897941\n",
            "loss: -1102.530977155148\n",
            "diff_loss: 1.3604269873333124\n",
            "loss: -1101.3450410095404\n",
            "diff_loss: 1.185936145607684\n",
            "loss: -1100.2665716901413\n",
            "diff_loss: 1.0784693193991188\n",
            "loss: -1099.234575543471\n",
            "diff_loss: 1.0319961466702807\n",
            "loss: -1098.1859472020092\n",
            "diff_loss: 1.0486283414618356\n",
            "loss: -1097.051583859809\n",
            "diff_loss: 1.1343633422002313\n",
            "loss: -1095.7553984748447\n",
            "diff_loss: 1.2961853849642466\n",
            "loss: -1094.2060055502086\n",
            "diff_loss: 1.549392924636095\n",
            "loss: -1092.2440990942775\n",
            "diff_loss: 1.9619064559310573\n",
            "loss: -1089.5406618146471\n",
            "diff_loss: 2.703437279630407\n",
            "loss: -1085.8020097402184\n",
            "diff_loss: 3.738652074428728\n",
            "loss: -1081.3937637924087\n",
            "diff_loss: 4.408245947809746\n",
            "loss: -1075.947437719359\n",
            "diff_loss: 5.446326073049704\n",
            "loss: -1067.6099132850936\n",
            "diff_loss: 8.337524434265333\n",
            "loss: -1064.252109745026\n",
            "diff_loss: 3.357803540067607\n",
            "loss: -1063.9352577798363\n",
            "diff_loss: 0.3168519651896986\n",
            "loss: -1063.8485680811932\n",
            "diff_loss: 0.08668969864311293\n",
            "loss: -1063.8226504601703\n",
            "diff_loss: 0.02591762102292705\n",
            "loss: -1063.8150743218066\n",
            "diff_loss: 0.007576138363674545\n",
            "loss: -1228.5789613477918\n",
            "loss: -1195.6322343528625\n",
            "diff_loss: 32.94672699492935\n",
            "loss: -1184.5595439938459\n",
            "diff_loss: 11.072690359016633\n",
            "loss: -1177.9866361953307\n",
            "diff_loss: 6.572907798515189\n",
            "loss: -1173.4307392953897\n",
            "diff_loss: 4.55589689994099\n",
            "loss: -1169.6929326281897\n",
            "diff_loss: 3.7378066671999477\n",
            "loss: -1165.8210760582242\n",
            "diff_loss: 3.87185656996553\n",
            "loss: -1160.9560783953825\n",
            "diff_loss: 4.864997662841688\n",
            "loss: -1154.406681658678\n",
            "diff_loss: 6.549396736704466\n",
            "loss: -1146.5940047913248\n",
            "diff_loss: 7.812676867353275\n",
            "loss: -1140.4110404600779\n",
            "diff_loss: 6.182964331246922\n",
            "loss: -1137.8027395943243\n",
            "diff_loss: 2.608300865753563\n",
            "loss: -1136.884918543932\n",
            "diff_loss: 0.9178210503923765\n",
            "loss: -1136.2123042571018\n",
            "diff_loss: 0.6726142868301395\n",
            "loss: -1135.4576206282088\n",
            "diff_loss: 0.7546836288929626\n",
            "loss: -1134.547922601169\n",
            "diff_loss: 0.9096980270398944\n",
            "loss: -1133.4587052049562\n",
            "diff_loss: 1.089217396212689\n",
            "loss: -1132.205267106811\n",
            "diff_loss: 1.253438098145125\n",
            "loss: -1130.860192287968\n",
            "diff_loss: 1.345074818843159\n",
            "loss: -1129.5796272204575\n",
            "diff_loss: 1.2805650675104516\n",
            "loss: -1128.5696758432312\n",
            "diff_loss: 1.0099513772263435\n",
            "loss: -1127.9321371961678\n",
            "diff_loss: 0.6375386470633657\n",
            "loss: -1127.5981970295315\n",
            "diff_loss: 0.33394016663623916\n",
            "loss: -1127.4430491353523\n",
            "diff_loss: 0.15514789417920838\n",
            "loss: -1127.3756661403843\n",
            "diff_loss: 0.06738299496805666\n",
            "loss: -1127.347356732434\n",
            "diff_loss: 0.028309407950246168\n",
            "loss: -1127.3355851082927\n",
            "diff_loss: 0.01177162414137456\n",
            "loss: -1127.330660376649\n",
            "diff_loss: 0.0049247316437686095\n",
            "loss: -1127.3285582215224\n",
            "diff_loss: 0.0021021551265221206\n",
            "loss: -1127.3276286500052\n",
            "diff_loss: 0.0009295715171901975\n",
            "loss: -1127.3271952175471\n",
            "diff_loss: 0.00043343245806681807\n",
            "loss: -1127.3269782985976\n",
            "diff_loss: 0.00021691894949071866\n",
            "loss: -1127.3268604040907\n",
            "diff_loss: 0.00011789450695687265\n",
            "loss: -1127.3267908321104\n",
            "diff_loss: 6.957198024792888e-05\n",
            "loss: -1127.3267467856224\n",
            "diff_loss: 4.4046488028470776e-05\n",
            "loss: -1127.3267173969168\n",
            "diff_loss: 2.9388705570454476e-05\n",
            "loss: -1127.326697082763\n",
            "diff_loss: 2.0314153744038776e-05\n",
            "loss: -1127.3266827261205\n",
            "diff_loss: 1.4356642623170046e-05\n",
            "loss: -1127.3266724436482\n",
            "diff_loss: 1.0282472203471116e-05\n",
            "loss: -1127.3266650213823\n",
            "diff_loss: 7.422265980494558e-06\n",
            "loss: -1127.3266596394158\n",
            "diff_loss: 5.3819665026821895e-06\n",
            "loss: -1127.3266557266872\n",
            "diff_loss: 3.912728516297648e-06\n",
            "loss: -1127.3266528778092\n",
            "diff_loss: 2.848878011718625e-06\n",
            "loss: -1127.3266508016945\n",
            "diff_loss: 2.07611469704716e-06\n",
            "loss: -1127.3266492879402\n",
            "diff_loss: 1.513754341431195e-06\n",
            "loss: -1127.3266481838716\n",
            "diff_loss: 1.1040685876650969e-06\n",
            "loss: -1127.3266473784504\n",
            "diff_loss: 8.054212230490521e-07\n",
            "loss: -1127.3266467908245\n",
            "diff_loss: 5.876258910575416e-07\n",
            "loss: -1127.3266463620598\n",
            "diff_loss: 4.2876467887253966e-07\n",
            "loss: -1127.3266460491925\n",
            "diff_loss: 3.1286731427826453e-07\n",
            "loss: -1127.326645820885\n",
            "diff_loss: 2.2830749912827741e-07\n",
            "loss: -1127.3266456542772\n",
            "diff_loss: 1.6660783330735285e-07\n",
            "loss: -1127.3266455326911\n",
            "diff_loss: 1.2158602658018935e-07\n",
            "loss: -1127.3266454439593\n",
            "diff_loss: 8.873189472069498e-08\n",
            "loss: -1127.3266453792023\n",
            "diff_loss: 6.475693226093426e-08\n",
            "loss: -1127.3266453319459\n",
            "diff_loss: 4.725643520941958e-08\n",
            "loss: -1127.3266452974558\n",
            "diff_loss: 3.449008545430843e-08\n",
            "loss: -1127.3266452722837\n",
            "diff_loss: 2.5172084860969335e-08\n",
            "loss: -1127.3266452539117\n",
            "diff_loss: 1.8372020349488594e-08\n",
            "loss: -1127.3266452405046\n",
            "diff_loss: 1.3407088772510178e-08\n",
            "loss: -1127.3266452307198\n",
            "diff_loss: 9.784798749024048e-09\n",
            "loss: -1127.3266452235778\n",
            "diff_loss: 7.142034519347362e-09\n",
            "loss: -1127.3266452183645\n",
            "diff_loss: 5.213223630562425e-09\n",
            "loss: -1127.3266452145624\n",
            "diff_loss: 3.8021426007617265e-09\n",
            "loss: -1127.326645211786\n",
            "diff_loss: 2.7764599508373067e-09\n",
            "loss: -1127.3266452097566\n",
            "diff_loss: 2.029310053330846e-09\n",
            "loss: -1127.3266452082798\n",
            "diff_loss: 1.4767920220037922e-09\n",
            "loss: -1127.3266452072014\n",
            "diff_loss: 1.0784333426272497e-09\n",
            "loss: -1127.326645206412\n",
            "diff_loss: 7.894414011389017e-10\n",
            "loss: -1127.3266452058365\n",
            "diff_loss: 5.754827725468203e-10\n",
            "loss: -1127.3266452054168\n",
            "diff_loss: 4.197318048682064e-10\n",
            "loss: -1127.3266452051116\n",
            "diff_loss: 3.051354724448174e-10\n",
            "loss: -1127.326645204888\n",
            "diff_loss: 2.2350832296069711e-10\n",
            "loss: -1127.3266452047233\n",
            "diff_loss: 1.6484591469634324e-10\n",
            "loss: -1127.3266452046041\n",
            "diff_loss: 1.191438059322536e-10\n",
            "loss: -1127.326645204517\n",
            "diff_loss: 8.708411769475788e-11\n",
            "loss: -1127.3266452044545\n",
            "diff_loss: 6.252776074688882e-11\n",
            "loss: -1127.3266452044084\n",
            "diff_loss: 4.615685611497611e-11\n",
            "loss: -1127.3266452043754\n",
            "diff_loss: 3.296918293926865e-11\n",
            "loss: -1127.3266452043497\n",
            "diff_loss: 2.5693225325085223e-11\n",
            "loss: -1127.3266452043333\n",
            "diff_loss: 1.6370904631912708e-11\n",
            "loss: -1127.3266452043204\n",
            "diff_loss: 1.2960299500264227e-11\n",
            "loss: -1127.3266452043085\n",
            "diff_loss: 1.1823431123048067e-11\n",
            "loss: -1127.3266452043024\n",
            "diff_loss: 6.139089236967266e-12\n"
          ],
          "name": "stdout"
        }
      ]
    },
    {
      "cell_type": "markdown",
      "metadata": {
        "id": "tYd6tPHKBEEd",
        "colab_type": "text"
      },
      "source": [
        "If you implemented all the steps correctly, your algorithm should converge in about 20 iterations. Let's plot the clusters to see it. We will assign a cluster label as the most probable cluster index. This can be found using a matrix $\\gamma$ computed on last E-step. "
      ]
    },
    {
      "cell_type": "code",
      "metadata": {
        "id": "mK_M6QLnBEEe",
        "colab_type": "code",
        "colab": {}
      },
      "source": [
        "gamma = E_step(X, best_pi, best_mu, best_sigma)\n",
        "labels = gamma.argmax(axis=1)\n",
        "colors = np.array([(31, 119, 180), (255, 127, 14), (44, 160, 44)]) / 255.\n",
        "plt.scatter(X[:, 0], X[:, 1], c=colors[labels], s=30)\n",
        "plt.axis('equal')\n",
        "plt.show()"
      ],
      "execution_count": 0,
      "outputs": []
    },
    {
      "cell_type": "markdown",
      "metadata": {
        "id": "h4lnjrc7BEEl",
        "colab_type": "text"
      },
      "source": [
        "# Authorization & Submission\n",
        "To submit assignment parts to Cousera platform, please, enter your e-mail and token into variables below. You can generate a token on this programming assignment's page. <b>Note:</b> The token expires 30 minutes after generation."
      ]
    },
    {
      "cell_type": "code",
      "metadata": {
        "id": "5uQRl29_BEEl",
        "colab_type": "code",
        "outputId": "519909b4-34b4-4c27-a8f5-bafc632623f9",
        "colab": {
          "base_uri": "https://localhost:8080/",
          "height": 128
        }
      },
      "source": [
        "STUDENT_EMAIL = # EMAIL HERE\n",
        "STUDENT_TOKEN = # TOKEN HERE\n",
        "grader.status()"
      ],
      "execution_count": 0,
      "outputs": [
        {
          "output_type": "error",
          "ename": "SyntaxError",
          "evalue": "ignored",
          "traceback": [
            "\u001b[0;36m  File \u001b[0;32m\"<ipython-input-162-4abe722246ff>\"\u001b[0;36m, line \u001b[0;32m1\u001b[0m\n\u001b[0;31m    STUDENT_EMAIL = # EMAIL HERE\u001b[0m\n\u001b[0m                                ^\u001b[0m\n\u001b[0;31mSyntaxError\u001b[0m\u001b[0;31m:\u001b[0m invalid syntax\n"
          ]
        }
      ]
    },
    {
      "cell_type": "markdown",
      "metadata": {
        "id": "sNCsqNOiBEEn",
        "colab_type": "text"
      },
      "source": [
        "If you want to submit these answers, run cell below"
      ]
    },
    {
      "cell_type": "code",
      "metadata": {
        "id": "3sc9imWNBEEo",
        "colab_type": "code",
        "colab": {}
      },
      "source": [
        "grader.submit(STUDENT_EMAIL, STUDENT_TOKEN)"
      ],
      "execution_count": 0,
      "outputs": []
    }
  ]
}